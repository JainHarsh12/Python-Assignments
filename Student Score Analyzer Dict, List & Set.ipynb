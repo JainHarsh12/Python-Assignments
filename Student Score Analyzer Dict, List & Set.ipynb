{
  "nbformat": 4,
  "nbformat_minor": 0,
  "metadata": {
    "colab": {
      "provenance": []
    },
    "kernelspec": {
      "name": "python3",
      "display_name": "Python 3"
    },
    "language_info": {
      "name": "python"
    }
  },
  "cells": [
    {
      "cell_type": "code",
      "execution_count": 1,
      "metadata": {
        "id": "LOBXNppn_2oD",
        "outputId": "d3e04037-cc68-4b41-9a05-e02d92117e76",
        "colab": {
          "base_uri": "https://localhost:8080/"
        }
      },
      "outputs": [
        {
          "output_type": "stream",
          "name": "stdout",
          "text": [
            "('Charlie', {'Math': {88, 80}, 'Science': {88, 90}, 'English': {92, 85}})\n"
          ]
        }
      ],
      "source": [
        "def analyze_students(students):\n",
        "    # Step 1: Find the student with the highest average marks\n",
        "    highest_avg = 0\n",
        "    top_student = \"\"\n",
        "\n",
        "    for student in students:\n",
        "        avg_marks = sum(student[\"marks\"]) / len(student[\"marks\"])\n",
        "        if avg_marks > highest_avg:\n",
        "            highest_avg = avg_marks\n",
        "            top_student = student[\"name\"]\n",
        "\n",
        "    # Step 2: Create a dictionary mapping subjects to sets of unique marks\n",
        "    subject_marks = {}\n",
        "\n",
        "    for student in students:\n",
        "        for idx, subject in enumerate(student[\"subjects\"]):\n",
        "            if subject not in subject_marks:\n",
        "                subject_marks[subject] = set()\n",
        "            subject_marks[subject].add(list(student[\"marks\"])[idx % len(student[\"marks\"])])\n",
        "\n",
        "    return top_student, subject_marks\n",
        "\n",
        "# Test case\n",
        "students = [\n",
        "    {\"name\": \"Alice\", \"subjects\": [\"Math\", \"Science\"], \"marks\": {90, 85, 88}},\n",
        "    {\"name\": \"Bob\", \"subjects\": [\"Math\", \"English\"], \"marks\": {78, 80, 85}},\n",
        "    {\"name\": \"Charlie\", \"subjects\": [\"Science\", \"English\"], \"marks\": {92, 88, 95}}\n",
        "]\n",
        "\n",
        "print(analyze_students(students))\n"
      ]
    }
  ]
}