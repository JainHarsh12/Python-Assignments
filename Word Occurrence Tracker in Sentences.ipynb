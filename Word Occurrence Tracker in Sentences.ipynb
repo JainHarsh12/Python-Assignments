{
  "nbformat": 4,
  "nbformat_minor": 0,
  "metadata": {
    "colab": {
      "provenance": []
    },
    "kernelspec": {
      "name": "python3",
      "display_name": "Python 3"
    },
    "language_info": {
      "name": "python"
    }
  },
  "cells": [
    {
      "cell_type": "code",
      "execution_count": 1,
      "metadata": {
        "colab": {
          "base_uri": "https://localhost:8080/"
        },
        "id": "Wl6fggLELlld",
        "outputId": "8be426af-b801-4edb-94aa-2c512cbd946c"
      },
      "outputs": [
        {
          "output_type": "stream",
          "name": "stdout",
          "text": [
            "{'over': {0, 1}, 'lazy': {0, 1}, 'the': {0}, 'dog': {0}, 'quick': {0, 1, 2}, 'jumps': {0}, 'brown': {0, 2}, 'fox': {0}, 'jump': {1}, 'not': {1}, 'foxes': {1}, 'do': {1}, 'dogs': {1, 2}, 'are': {2}, 'friendly': {2}}\n"
          ]
        }
      ],
      "source": [
        "def word_sentence_index(sentences):\n",
        "    word_dict = {}  # Dictionary to store word occurrences\n",
        "    for index, sentence in enumerate(sentences):\n",
        "        words = set(sentence.lower().split())  # Convert to lowercase and extract unique words\n",
        "        for word in words:\n",
        "            if word not in word_dict:\n",
        "                word_dict[word] = set()\n",
        "            word_dict[word].add(index)  # Add sentence index to the set\n",
        "    return word_dict\n",
        "\n",
        "# Example usage\n",
        "sentences = [\n",
        "    \"The quick brown fox jumps over the lazy dog\",\n",
        "    \"Lazy dogs do not jump over quick foxes\",\n",
        "    \"Quick brown dogs are friendly\",\n",
        "]\n",
        "\n",
        "result = word_sentence_index(sentences)\n",
        "print(result)\n"
      ]
    },
    {
      "cell_type": "code",
      "source": [],
      "metadata": {
        "id": "qqmDCpJaLsjS"
      },
      "execution_count": null,
      "outputs": []
    }
  ]
}