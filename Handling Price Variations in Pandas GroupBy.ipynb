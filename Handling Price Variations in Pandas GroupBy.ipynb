{
  "nbformat": 4,
  "nbformat_minor": 0,
  "metadata": {
    "colab": {
      "provenance": []
    },
    "kernelspec": {
      "name": "python3",
      "display_name": "Python 3"
    },
    "language_info": {
      "name": "python"
    }
  },
  "cells": [
    {
      "cell_type": "code",
      "execution_count": 1,
      "metadata": {
        "colab": {
          "base_uri": "https://localhost:8080/"
        },
        "id": "akPHz1hqloHL",
        "outputId": "d5a84bdf-20a6-4d51-b368-65e92292b112"
      },
      "outputs": [
        {
          "output_type": "stream",
          "name": "stdout",
          "text": [
            "  Product_ID   Price  Price_Variation\n",
            "0      P1001   500.0            False\n",
            "1      P1002   725.0             True\n",
            "2      P1003  1000.0            False\n"
          ]
        }
      ],
      "source": [
        "import pandas as pd\n",
        "\n",
        "# Creating the input DataFrame\n",
        "data = {\n",
        "    \"Product_ID\": [\"P1001\", \"P1002\", \"P1001\", \"P1003\", \"P1002\", \"P1003\"],\n",
        "    \"Price\": [500, 700, 500, 1000, 750, 1000]\n",
        "}\n",
        "\n",
        "df = pd.DataFrame(data)\n",
        "\n",
        "# Grouping by Product_ID\n",
        "df_new = df.groupby(\"Product_ID\").agg(\n",
        "    Price=(\"Price\", lambda x: x.mean() if x.nunique() > 1 else x.iloc[0]),\n",
        "    Price_Variation=(\"Price\", lambda x: x.nunique() > 1)\n",
        ").reset_index()\n",
        "\n",
        "# Displaying the result\n",
        "print(df_new)\n"
      ]
    }
  ]
}